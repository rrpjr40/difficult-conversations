{
  "cells": [
    {
      "cell_type": "markdown",
      "metadata": {},
      "source": [
        "# Difficult Conversations: Tortoise TTS Voice Generator\n",
        "\n",
        "This notebook uses [Tortoise TTS](https://github.com/neonbjb/tortoise-tts) to generate MP3 audio from a script using a calm, authoritative male voice.\n",
        "\n",
        "Licensed under [CC BY-NC-ND 4.0](https://creativecommons.org/licenses/by-nc-nd/4.0/)."
      ]
    },
    {
      "cell_type": "code",
      "execution_count": null,
      "metadata": {},
      "outputs": [],
      "source": [
        "# Install dependencies\n",
        "!pip install git+https://github.com/neonbjb/tortoise-tts.git\n",
        "!pip install transformers torchaudio einops\n",
        "!apt install ffmpeg"
      ]
    },
    {
      "cell_type": "code",
      "execution_count": null,
      "metadata": {},
      "outputs": [],
      "source": [
        "# Clone voice model assets\n",
        "!git clone https://github.com/neonbjb/tortoise-tts.git\n",
        "%cd tortoise-tts\n",
        "!python setup.py install"
      ]
    },
    {
      "cell_type": "code",
      "execution_count": null,
      "metadata": {},
      "outputs": [],
      "source": [
        "# Run TTS\n",
        "from tortoise.api import TextToSpeech\n",
        "from tortoise.utils.audio import load_voice\n",
        "\n",
        "tts = TextToSpeech()\n",
        "\n",
        "# Define your script\n",
        "script = '''\n",
        "In this episode of Difficult Conversations, we uncover the forces behind the headlines...\n",
        "'''\n",
        "\n",
        "# Choose voice (e.g., 'tom', 'william')\n",
        "voice = 'tom'\n",
        "\n",
        "# Generate audio\n",
        "tts.tts_to_file(text=script, voice=voice, file_path='difficult_conversations_output.wav')"
      ]
    },
    {
      "cell_type": "code",
      "execution_count": null,
      "metadata": {},
      "outputs": [],
      "source": [
        "# Convert to MP3 and add metadata\n",
        "!ffmpeg -i difficult_conversations_output.wav -metadata title=\"Difficult Conversations\" \\\n",
        "-metadata artist=\"YourName\" -metadata comment=\"Licensed under CC BY-NC-ND 4.0\" \\\n",
        "difficult_conversations_output.mp3"
      ]
    }
  ],
  "metadata": {
    "colab": {
      "name": "Tortoise_TTS_Difficult_Conversations.ipynb"
    },
    "kernelspec": {
      "display_name": "Python 3",
      "language": "python",
      "name": "python3"
    },
    "language_info": {
      "name": "python"
    }
  },
  "nbformat": 4,
  "nbformat_minor": 0
}